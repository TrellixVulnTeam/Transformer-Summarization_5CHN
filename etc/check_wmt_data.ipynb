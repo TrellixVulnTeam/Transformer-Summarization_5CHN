{
 "cells": [
  {
   "cell_type": "code",
   "execution_count": 1,
   "metadata": {},
   "outputs": [],
   "source": [
    "import tensorflow as tf\n",
    "tf.enable_eager_execution()\n"
   ]
  },
  {
   "cell_type": "code",
   "execution_count": 2,
   "metadata": {},
   "outputs": [],
   "source": [
    "def _parse_function(example_proto):\n",
    "    features = {\"inputs\": tf.VarLenFeature(tf.int64),\n",
    "              \"targets\": tf.VarLenFeature(tf.int64)}\n",
    "    parsed_features = tf.parse_single_example(example_proto, features)\n",
    "    inputs = tf.sparse_tensor_to_dense(parsed_features[\"inputs\"])\n",
    "    targets = tf.sparse_tensor_to_dense(parsed_features[\"targets\"])\n",
    "    return {\"inputs\":inputs,\"targets\":targets}\n"
   ]
  },
  {
   "cell_type": "code",
   "execution_count": 5,
   "metadata": {},
   "outputs": [
    {
     "data": {
      "text/plain": [
       "<DatasetV1Adapter shapes: {inputs: (?, ?), targets: (?, ?)}, types: {inputs: tf.int64, targets: tf.int64}>"
      ]
     },
     "execution_count": 5,
     "metadata": {},
     "output_type": "execute_result"
    }
   ],
   "source": [
    "dataset = tf.data.TFRecordDataset(\"data/wmt32k-train-00001-of-00100\")\n",
    "dataset = dataset.map(_parse_function)\n",
    "batched_dataset = dataset.batch(1)\n",
    "batched_dataset"
   ]
  },
  {
   "cell_type": "code",
   "execution_count": 8,
   "metadata": {},
   "outputs": [
    {
     "name": "stdout",
     "output_type": "stream",
     "text": [
      "tf.Tensor(\n",
      "[[   30   550    23  8695     2     6    97  2957  1302    17  2560     6\n",
      "      4   261     2  1105   245  1277    27   838  1105    17     2     6\n",
      "   4548    31  1855  1896     2     4   315  2599   118    28 13772   190\n",
      "   2662  6281   114     4   129 17012     4  9691  1576     7     4  3785\n",
      "      7     4   451  3887   123 18168   297  8516     8     4   451 29793\n",
      "    297  8516     3     1]], shape=(1, 64), dtype=int64)\n",
      "tf.Tensor(\n",
      "[[   74   348 28227    22  6681     2     9    60   333  8498 24451    24\n",
      "      2 17103   317    11 32678  7751  2886   413  2532   150     2    21\n",
      "    399    11    41  4676    11 20512    29  5431    41 33025  6480   131\n",
      "     11   105  1095 10209 32890     6    20 22032 13358  3894 12070    12\n",
      "     11   311    20 13178 21007    11  1839    37 26981    14   162 33137\n",
      "      5    15 11944   224    39    60 10938   162  6317 28899    29   224\n",
      "  11573     3     1]], shape=(1, 75), dtype=int64)\n",
      "===========================\n",
      "tf.Tensor(\n",
      "[[  303 10742     5    79  1264   166     2     4  1437     6  2471 27153\n",
      "     93    85 32555 28827     5    47  8264     6    25 12114   580   278\n",
      "    323  4710     6     4  4019  1437  9101  4300     8   575  7067    13\n",
      "   4638  2907     3     1]], shape=(1, 40), dtype=int64)\n",
      "tf.Tensor(\n",
      "[[  303 10742     5    79   520  2458   428    56  2563     6  2471 27153\n",
      "     93    85 32555 28827     5    92    18    87  1645   305 20549 13470\n",
      "     22  1178  1751     2   305  2734  6346    11 18597  9418    20  5409\n",
      "  15036     5    26    52 18218    29    12  5872   102   694  6001 17916\n",
      "     92     3     1]], shape=(1, 51), dtype=int64)\n",
      "===========================\n",
      "tf.Tensor(\n",
      "[[  416    57   680    28   289    10   444     4   201   549  1118    48\n",
      "  15790    23    13  3758    64     4  4235     7   213   628    23   107\n",
      "   1085     3     1]], shape=(1, 27), dtype=int64)\n",
      "tf.Tensor(\n",
      "[[   65    55   286     6    11   440   170     2     9 31249  9059  1571\n",
      "   1908    18   676     2   950    65    38    20 11785   137  8095    87\n",
      "   1551   857   529  1838  8962     3     1]], shape=(1, 31), dtype=int64)\n",
      "===========================\n"
     ]
    }
   ],
   "source": [
    "for i,d in enumerate(batched_dataset):\n",
    "    if i>2:\n",
    "        break\n",
    "    print(d['inputs'])\n",
    "    print(d['targets'])\n",
    "    print(\"===========================\")"
   ]
  },
  {
   "cell_type": "code",
   "execution_count": null,
   "metadata": {},
   "outputs": [],
   "source": []
  }
 ],
 "metadata": {
  "kernelspec": {
   "display_name": "Python 3",
   "language": "python",
   "name": "python3"
  },
  "language_info": {
   "codemirror_mode": {
    "name": "ipython",
    "version": 3
   },
   "file_extension": ".py",
   "mimetype": "text/x-python",
   "name": "python",
   "nbconvert_exporter": "python",
   "pygments_lexer": "ipython3",
   "version": "3.6.8"
  }
 },
 "nbformat": 4,
 "nbformat_minor": 2
}
